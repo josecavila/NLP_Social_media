{
 "cells": [
  {
   "cell_type": "code",
   "execution_count": 2,
   "id": "a5ae8916",
   "metadata": {},
   "outputs": [
    {
     "name": "stderr",
     "output_type": "stream",
     "text": [
      "[nltk_data] Downloading package punkt to\n",
      "[nltk_data]     /Users/josecarlosavilapalazon/nltk_data...\n",
      "[nltk_data]   Package punkt is already up-to-date!\n",
      "[nltk_data] Downloading package stopwords to\n",
      "[nltk_data]     /Users/josecarlosavilapalazon/nltk_data...\n",
      "[nltk_data]   Package stopwords is already up-to-date!\n"
     ]
    },
    {
     "data": {
      "text/plain": [
       "True"
      ]
     },
     "execution_count": 2,
     "metadata": {},
     "output_type": "execute_result"
    }
   ],
   "source": [
    "import re\n",
    "import pandas as pd\n",
    "from sklearn.feature_extraction.text import CountVectorizer\n",
    "from sklearn.feature_extraction.text import TfidfVectorizer\n",
    "from sklearn.ensemble import RandomForestClassifier\n",
    "from sklearn.pipeline import Pipeline, FeatureUnion\n",
    "from sklearn.metrics import classification_report\n",
    "from sklearn.base import BaseEstimator, TransformerMixin\n",
    "from sklearn.model_selection import train_test_split, cross_val_score\n",
    "from sklearn.base import BaseEstimator, TransformerMixin\n",
    "from nltk.corpus import stopwords\n",
    "from nltk.stem import SnowballStemmer\n",
    "from nltk.tokenize import word_tokenize\n",
    "from sklearn.svm import SVC\n",
    "from sklearn.linear_model import LogisticRegression\n",
    "import nltk\n",
    "\n",
    "nltk.download('punkt')\n",
    "nltk.download('stopwords')\n"
   ]
  },
  {
   "cell_type": "code",
   "execution_count": 3,
   "id": "decd4f1b",
   "metadata": {},
   "outputs": [
    {
     "data": {
      "text/html": [
       "<div>\n",
       "<style scoped>\n",
       "    .dataframe tbody tr th:only-of-type {\n",
       "        vertical-align: middle;\n",
       "    }\n",
       "\n",
       "    .dataframe tbody tr th {\n",
       "        vertical-align: top;\n",
       "    }\n",
       "\n",
       "    .dataframe thead th {\n",
       "        text-align: right;\n",
       "    }\n",
       "</style>\n",
       "<table border=\"1\" class=\"dataframe\">\n",
       "  <thead>\n",
       "    <tr style=\"text-align: right;\">\n",
       "      <th></th>\n",
       "      <th>id</th>\n",
       "      <th>label</th>\n",
       "      <th>tweet</th>\n",
       "    </tr>\n",
       "  </thead>\n",
       "  <tbody>\n",
       "    <tr>\n",
       "      <th>0</th>\n",
       "      <td>768213876278165504</td>\n",
       "      <td>NONE</td>\n",
       "      <td>-Me caes muy bien  -Tienes que jugar más parti...</td>\n",
       "    </tr>\n",
       "    <tr>\n",
       "      <th>1</th>\n",
       "      <td>768213567418036224</td>\n",
       "      <td>N</td>\n",
       "      <td>@myendlesshazza a. que puto mal escribo  b. me...</td>\n",
       "    </tr>\n",
       "    <tr>\n",
       "      <th>2</th>\n",
       "      <td>768212591105703936</td>\n",
       "      <td>N</td>\n",
       "      <td>@estherct209 jajajaja la tuya y la d mucha gen...</td>\n",
       "    </tr>\n",
       "    <tr>\n",
       "      <th>3</th>\n",
       "      <td>768221670255493120</td>\n",
       "      <td>P</td>\n",
       "      <td>Quiero mogollón a @AlbaBenito99 pero sobretodo...</td>\n",
       "    </tr>\n",
       "    <tr>\n",
       "      <th>4</th>\n",
       "      <td>768221021300264964</td>\n",
       "      <td>N</td>\n",
       "      <td>Vale he visto la tia bebiendose su regla y me ...</td>\n",
       "    </tr>\n",
       "  </tbody>\n",
       "</table>\n",
       "</div>"
      ],
      "text/plain": [
       "                   id label                                              tweet\n",
       "0  768213876278165504  NONE  -Me caes muy bien  -Tienes que jugar más parti...\n",
       "1  768213567418036224     N  @myendlesshazza a. que puto mal escribo  b. me...\n",
       "2  768212591105703936     N  @estherct209 jajajaja la tuya y la d mucha gen...\n",
       "3  768221670255493120     P  Quiero mogollón a @AlbaBenito99 pero sobretodo...\n",
       "4  768221021300264964     N  Vale he visto la tia bebiendose su regla y me ..."
      ]
     },
     "execution_count": 3,
     "metadata": {},
     "output_type": "execute_result"
    }
   ],
   "source": [
    "# Cargar los datos\n",
    "train_df = pd.read_csv('training.txt', sep='\\t', header=None, names=['id', 'label', 'tweet'])\n",
    "dev_df = pd.read_csv('development.txt', sep='\\t', header=None, names=['id', 'label', 'tweet'])\n",
    "test_df = pd.read_csv('test.txt', sep='\\t', header=None, names=['id', 'label', 'tweet'])\n",
    "train_df.head()"
   ]
  },
  {
   "cell_type": "markdown",
   "id": "a5a91278",
   "metadata": {},
   "source": [
    "Diccionario de polaridad, lo introduciremos al pipeline como otra feature incluida en nuestro clasificador"
   ]
  },
  {
   "cell_type": "code",
   "execution_count": 4,
   "id": "b2bb2e40",
   "metadata": {},
   "outputs": [],
   "source": [
    "def load_polarity_dict(file_path):\n",
    "    polarity_dict = {}\n",
    "    with open(file_path, 'r', encoding='utf-8') as f:\n",
    "        for line in f:\n",
    "            parts = line.strip().split('\\t')\n",
    "            if len(parts) == 2:\n",
    "                word, polarity = parts\n",
    "                try:\n",
    "                    polarity_dict[word] = float(polarity)\n",
    "                except ValueError:\n",
    "                    continue  \n",
    "    return polarity_dict\n",
    "\n",
    "polarity_dict = load_polarity_dict(\"../corpus/ElhPolar_esV1.lex\")"
   ]
  },
  {
   "cell_type": "markdown",
   "id": "1e72b9be",
   "metadata": {},
   "source": [
    "Preproceso de los texto en los que realizaremos las siguientes labores:\n",
    "1. eliminamos las menciones\n",
    "2. eliminamos caracteres especiales que no nos sirven\n",
    "3. convertimos a minusculas, para mayor facilidad de encontrar la misma palabra ej: CASA Casa casa\n",
    "4. Tokenizar los textos en palabras y stopwords\n",
    "5. Lemmatizar los textos con spaCy(morfologia de las palabras) o Steeming(sacar la raiz de las palabras)--ha funcionado mejor stemming en este caso"
   ]
  },
  {
   "cell_type": "code",
   "execution_count": 5,
   "id": "44c21eb6",
   "metadata": {},
   "outputs": [],
   "source": [
    "class TextPreprocessor(BaseEstimator, TransformerMixin):\n",
    "    def __init__(self, stopwords, stemmer):\n",
    "        self.stopwords = stopwords\n",
    "        self.stemmer = stemmer\n",
    "\n",
    "    def preprocess(self, text):\n",
    "        text = re.sub(r'@\\w+', '', text)  # Eliminar menciones\n",
    "        text = re.sub(r'[^a-zA-ZáéíóúÁÉÍÓÚñÑ\\s]', '', text)  # Eliminar caracteres especiales\n",
    "        text = text.lower()  # Convertir a minúsculas\n",
    "        tokens = word_tokenize(text)  # Tokenización\n",
    "        tokens = [t for t in tokens if t not in self.stopwords]  # Eliminar stopwords\n",
    "        tokens = [self.stemmer.stem(t) for t in tokens]  # Aplicar stemming\n",
    "        return ' '.join(tokens)\n",
    "\n",
    "    def fit(self, X, y=None):\n",
    "        return self\n",
    "\n",
    "    def transform(self, X):\n",
    "        return X.apply(self.preprocess)\n"
   ]
  },
  {
   "cell_type": "markdown",
   "id": "ffe75b8f",
   "metadata": {},
   "source": [
    "Clase para extraer el score total de los textos"
   ]
  },
  {
   "cell_type": "code",
   "execution_count": 6,
   "id": "df81b97e",
   "metadata": {},
   "outputs": [],
   "source": [
    "class PolarityScoreExtractor(BaseEstimator, TransformerMixin):\n",
    "    def __init__(self, polarity_dict):\n",
    "        self.polarity_dict = polarity_dict\n",
    "\n",
    "    def polarity_score(self, text):\n",
    "        words = text.split()\n",
    "        score = sum(self.polarity_dict.get(word, 0) for word in words)\n",
    "        return score\n",
    "\n",
    "    def fit(self, X, y=None):\n",
    "        return self\n",
    "\n",
    "    def transform(self, X):\n",
    "        return pd.DataFrame(X.apply(self.polarity_score))\n"
   ]
  },
  {
   "cell_type": "markdown",
   "id": "75ef43dd",
   "metadata": {},
   "source": []
  },
  {
   "cell_type": "code",
   "execution_count": 7,
   "id": "ddb10ee5",
   "metadata": {},
   "outputs": [],
   "source": [
    "# stopwords and stemming\n",
    "spanish_stopwords = set(stopwords.words('spanish'))\n",
    "spanish_stemmer = SnowballStemmer('spanish')\n",
    "\n",
    "# Preprocess\n",
    "preprocessor = TextPreprocessor(spanish_stopwords, spanish_stemmer)\n",
    "train_df['tweet'] = preprocessor.transform(train_df['tweet'])\n",
    "dev_df['tweet'] = preprocessor.transform(dev_df['tweet'])\n",
    "test_df['tweet'] = preprocessor.transform(test_df['tweet'])"
   ]
  },
  {
   "cell_type": "code",
   "execution_count": 8,
   "id": "9bd7878c",
   "metadata": {},
   "outputs": [
    {
     "name": "stdout",
     "output_type": "stream",
     "text": [
      "<class 'pandas.core.frame.DataFrame'>\n",
      "Index: 1514 entries, 0 to 505\n",
      "Data columns (total 3 columns):\n",
      " #   Column  Non-Null Count  Dtype \n",
      "---  ------  --------------  ----- \n",
      " 0   id      1514 non-null   int64 \n",
      " 1   label   1514 non-null   object\n",
      " 2   tweet   1514 non-null   object\n",
      "dtypes: int64(1), object(2)\n",
      "memory usage: 47.3+ KB\n"
     ]
    }
   ],
   "source": [
    "# Concat dev and train\n",
    "combined_df = pd.concat([train_df, dev_df])\n",
    "combined_df.info()"
   ]
  },
  {
   "cell_type": "code",
   "execution_count": 9,
   "id": "8dbbbfd4",
   "metadata": {},
   "outputs": [
    {
     "data": {
      "text/html": [
       "<div>\n",
       "<style scoped>\n",
       "    .dataframe tbody tr th:only-of-type {\n",
       "        vertical-align: middle;\n",
       "    }\n",
       "\n",
       "    .dataframe tbody tr th {\n",
       "        vertical-align: top;\n",
       "    }\n",
       "\n",
       "    .dataframe thead th {\n",
       "        text-align: right;\n",
       "    }\n",
       "</style>\n",
       "<table border=\"1\" class=\"dataframe\">\n",
       "  <thead>\n",
       "    <tr style=\"text-align: right;\">\n",
       "      <th></th>\n",
       "      <th>id</th>\n",
       "      <th>label</th>\n",
       "      <th>tweet</th>\n",
       "    </tr>\n",
       "  </thead>\n",
       "  <tbody>\n",
       "    <tr>\n",
       "      <th>0</th>\n",
       "      <td>768213876278165504</td>\n",
       "      <td>NONE</td>\n",
       "      <td>caes bien jug part lol russel conmig tan otak ...</td>\n",
       "    </tr>\n",
       "    <tr>\n",
       "      <th>1</th>\n",
       "      <td>768213567418036224</td>\n",
       "      <td>N</td>\n",
       "      <td>put mal escrib b sig surr help qued rar comete...</td>\n",
       "    </tr>\n",
       "    <tr>\n",
       "      <th>2</th>\n",
       "      <td>768212591105703936</td>\n",
       "      <td>N</td>\n",
       "      <td>jajajaj d much gent segur pued melen muer</td>\n",
       "    </tr>\n",
       "    <tr>\n",
       "      <th>3</th>\n",
       "      <td>768221670255493120</td>\n",
       "      <td>P</td>\n",
       "      <td>quier mogollon sobretod rap contest wasaps</td>\n",
       "    </tr>\n",
       "    <tr>\n",
       "      <th>4</th>\n",
       "      <td>768221021300264964</td>\n",
       "      <td>N</td>\n",
       "      <td>val vist tia beb regl hs dad muchs grim</td>\n",
       "    </tr>\n",
       "  </tbody>\n",
       "</table>\n",
       "</div>"
      ],
      "text/plain": [
       "                   id label                                              tweet\n",
       "0  768213876278165504  NONE  caes bien jug part lol russel conmig tan otak ...\n",
       "1  768213567418036224     N  put mal escrib b sig surr help qued rar comete...\n",
       "2  768212591105703936     N          jajajaj d much gent segur pued melen muer\n",
       "3  768221670255493120     P         quier mogollon sobretod rap contest wasaps\n",
       "4  768221021300264964     N            val vist tia beb regl hs dad muchs grim"
      ]
     },
     "execution_count": 9,
     "metadata": {},
     "output_type": "execute_result"
    }
   ],
   "source": [
    "combined_df.head()"
   ]
  },
  {
   "cell_type": "code",
   "execution_count": 10,
   "id": "2ade2e86",
   "metadata": {},
   "outputs": [],
   "source": [
    "# Separar características y etiquetas\n",
    "X_train = combined_df['tweet']\n",
    "y_train = combined_df['label']\n",
    "X_test = test_df['tweet']\n"
   ]
  },
  {
   "cell_type": "code",
   "execution_count": 11,
   "id": "c2f8890e",
   "metadata": {},
   "outputs": [],
   "source": [
    "pipeline = Pipeline([\n",
    "    ('features', FeatureUnion([\n",
    "        ('tfidf', TfidfVectorizer()),  # Vectorización\n",
    "        ('polarity', PolarityScoreExtractor(polarity_dict))  # Extracción de polaridad\n",
    "    ])),\n",
    "    ('clf', LogisticRegression(C=0.0419, class_weight='balanced', random_state=42))  # Clasificador\n",
    "])\n",
    "#'clf', SVC(C=0.0419, class_weight='balanced', dual=False, random_state=22)\n",
    "#'clf', RandomForestClassifier(**rf_params)"
   ]
  },
  {
   "cell_type": "code",
   "execution_count": 12,
   "id": "2a0b6f68",
   "metadata": {},
   "outputs": [
    {
     "name": "stdout",
     "output_type": "stream",
     "text": [
      "Cross-validation F1 scores: [0.50040467 0.46998999 0.47029639 0.46957153 0.52727654]\n",
      "Mean cross-validation F1 score: 0.48750782422784544\n"
     ]
    }
   ],
   "source": [
    "# Entrenar el modelo con todos los datos de entrenamiento\n",
    "pipeline.fit(X_train, y_train)\n",
    "\n",
    "# Validación cruzada\n",
    "cv_scores = cross_val_score(pipeline, X_train, y_train, cv=5, scoring='f1_weighted')\n",
    "print(f'Cross-validation F1 scores: {cv_scores}')\n",
    "print(f'Mean cross-validation F1 score: {cv_scores.mean()}')"
   ]
  },
  {
   "cell_type": "markdown",
   "id": "bd36c005",
   "metadata": {},
   "source": [
    "Utilizando lemmatizacion conseguimos un F1 score de 0.43 aprox, por ello hemos obtado por utilizar Stemming."
   ]
  },
  {
   "cell_type": "code",
   "execution_count": 13,
   "id": "05908ab9",
   "metadata": {},
   "outputs": [],
   "source": [
    "# Predict test\n",
    "y_pred_test = pipeline.predict(X_test)\n",
    "\n",
    "# Results in df\n",
    "results = pd.DataFrame({'id': test_df['id'], 'label': y_pred_test})"
   ]
  },
  {
   "cell_type": "code",
   "execution_count": 14,
   "id": "d344dbf8",
   "metadata": {},
   "outputs": [],
   "source": [
    "# Guardar el DataFrame en un archivo de texto con el formato requerido\n",
    "results.to_csv('resultado.txt', sep='\\t', index=False, header=False)"
   ]
  },
  {
   "cell_type": "code",
   "execution_count": null,
   "id": "64e2bbe6",
   "metadata": {},
   "outputs": [],
   "source": []
  }
 ],
 "metadata": {
  "kernelspec": {
   "display_name": "Python 3 (ipykernel)",
   "language": "python",
   "name": "python3"
  },
  "language_info": {
   "codemirror_mode": {
    "name": "ipython",
    "version": 3
   },
   "file_extension": ".py",
   "mimetype": "text/x-python",
   "name": "python",
   "nbconvert_exporter": "python",
   "pygments_lexer": "ipython3",
   "version": "3.11.5"
  }
 },
 "nbformat": 4,
 "nbformat_minor": 5
}
